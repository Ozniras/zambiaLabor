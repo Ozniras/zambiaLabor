{
 "cells": [
  {
   "cell_type": "code",
   "execution_count": 1,
   "metadata": {
    "collapsed": true
   },
   "outputs": [],
   "source": [
    "import psycopg2\n",
    "from psycopg2 import sql\n",
    "!ln -s /var/run/postgresql/.s.PGSQL.5432 /tmp/.s.PGSQL.5432"
   ]
  },
  {
   "cell_type": "code",
   "execution_count": 59,
   "metadata": {
    "collapsed": true
   },
   "outputs": [],
   "source": [
    "conn = psycopg2.connect(database = \"zambiaLFSmapping\", user = \"ram22\")\n",
    "cur = conn.cursor()"
   ]
  },
  {
   "cell_type": "code",
   "execution_count": 61,
   "metadata": {
    "collapsed": true
   },
   "outputs": [],
   "source": [
    "# Table of population counts for each ward for relevant age group\n",
    "cur.execute(\"\"\"\n",
    "    create table if not exists censuswardcounts1564 as\n",
    "      select max(dist) as dist, max(const) as const, max(ward) as ward,\n",
    "        wardid, count(wardid) as population1564\n",
    "      from censuslabor\n",
    "      where p2_membership <= 2 \n",
    "        and p5_age >= 15 and p5_age <= 64\n",
    "      group by wardid;\n",
    "    \"\"\")\n"
   ]
  },
  {
   "cell_type": "code",
   "execution_count": 62,
   "metadata": {
    "collapsed": true
   },
   "outputs": [],
   "source": [
    "# Create base (general case) for 15-64 age range\n",
    "cur.execute(\"\"\"\n",
    "    create table if not exists generalcase1564 as \n",
    "      select *\n",
    "      from censuslabor\n",
    "      where p2_membership <= 2\n",
    "        and p5_age >= 15 and p5_age <= 64; \n",
    "    \"\"\")"
   ]
  },
  {
   "cell_type": "code",
   "execution_count": 63,
   "metadata": {},
   "outputs": [],
   "source": [
    "# Define repeated code to run on specific case\n",
    "\n",
    "def sharedSQL():\n",
    "    \n",
    "    cur.execute(\"drop table if exists censuswardpopthiscase;\")\n",
    "    cur.execute(\"\"\"\n",
    "        create temporary table censuswardpopthiscase as\n",
    "          select wardid, count(wardid) as popthiscase\n",
    "          from thiscase\n",
    "          group by wardid;\n",
    "    \"\"\")\n",
    "\n",
    "    cur.execute(\"drop table if exists censuswardlf7days;\")\n",
    "    cur.execute(\"\"\"\n",
    "        create temporary table censuswardlf7days as\n",
    "          select wardid, count(wardid) as lf7days\n",
    "          from thiscase\n",
    "          where p31_activity_last_7_days >= 1 and p31_activity_last_7_days <= 7\n",
    "          group by wardid;\n",
    "        \"\"\")\n",
    "\n",
    "    cur.execute(\"drop table if exists censuswardlf12months;\")\n",
    "    cur.execute(\"\"\"\n",
    "        create temporary table censuswardlf12months as\n",
    "          select wardid, count(wardid) as lf12months\n",
    "          from thiscase\n",
    "          where p32_activity_last_12_months >= 1 and p32_activity_last_12_months <= 7\n",
    "          group by wardid;\n",
    "        \"\"\")\n",
    "    \n",
    "    cur.execute(\"drop table if exists censuswardempl7days;\")\n",
    "    cur.execute(\"\"\"   \n",
    "        create temporary table censuswardempl7days as\n",
    "          select wardid, count(wardid) as empl7days\n",
    "          from thiscase\n",
    "          where p31_activity_last_7_days >= 1 and p31_activity_last_7_days <= 6\n",
    "          group by wardid;\n",
    "        \"\"\")\n",
    "    \n",
    "    cur.execute(\"drop table if exists censuswardempl12months;\")\n",
    "    cur.execute(\"\"\"   \n",
    "        create temporary table censuswardempl12months as\n",
    "          select wardid, count(wardid) as empl12months\n",
    "          from thiscase\n",
    "          where p32_activity_last_12_months >= 1 and p32_activity_last_12_months <= 6\n",
    "          group by wardid;\n",
    "        \"\"\")\n",
    "    \n",
    "    cur.execute(\"drop table if exists censuswardunem7days;\")\n",
    "    cur.execute(\"\"\"   \n",
    "        create temporary table censuswardunem7days as\n",
    "          select wardid, count(wardid) as unem7days\n",
    "          from thiscase\n",
    "          where p31_activity_last_7_days = 7\n",
    "          group by wardid;\n",
    "        \"\"\")\n",
    "    \n",
    "    cur.execute(\"drop table if exists censuswardunem12months;\")\n",
    "    cur.execute(\"\"\"   \n",
    "        create temporary table censuswardunem12months as\n",
    "          select wardid, count(wardid) as unem12months\n",
    "          from thiscase\n",
    "          where p32_activity_last_12_months = 7\n",
    "          group by wardid;\n",
    "        \"\"\")\n",
    "    \n",
    "    cur.execute(\"drop table if exists final;\")\n",
    "    cur.execute(\"\"\"   \n",
    "        create table final as\n",
    "          select dist, const, ward, wardid, population1564, popthiscase,\n",
    "            lf7days, lf12months, empl7days, empl12months, unem7days, unem12months\n",
    "          from censuswardcounts1564\n",
    "          full outer join censuswardpopthiscase using(wardid)\n",
    "          full outer join censuswardlf7days using(wardid)\n",
    "          full outer join censuswardlf12months using(wardid)\n",
    "          full outer join censuswardempl7days using(wardid)\n",
    "          full outer join censuswardempl12months using(wardid)\n",
    "          full outer join censuswardunem7days using(wardid)\n",
    "          full outer join censuswardunem12months using(wardid);\n",
    "        \"\"\")\n",
    "\n",
    "    cur.execute(\"drop table if exists censuswardunem7days;\")\n",
    "    cur.execute(\"drop table if exists censuswardempl7days;\")\n",
    "    cur.execute(\"drop table if exists censuswardunem12months;\")\n",
    "    cur.execute(\"drop table if exists censuswardempl12months;\")\n",
    "    cur.execute(\"drop table if exists censuswardlf12months;\")\n",
    "    cur.execute(\"drop table if exists censuswardlf7days;\")\n",
    "    cur.execute(\"drop table if exists censuswardpopthiscase;\")\n",
    "    cur.execute(\"drop table if exists thiscase;\")"
   ]
  },
  {
   "cell_type": "code",
   "execution_count": 54,
   "metadata": {},
   "outputs": [],
   "source": [
    "# Totals for population:\n",
    "\n",
    "# Create specific case\n",
    "cur.execute(\"drop table if exists thiscase;\")\n",
    "cur.execute(\"\"\"\n",
    "    create temporary table thiscase as \n",
    "      select *\n",
    "      from generalcase1564; \n",
    "    \"\"\")\n",
    "\n",
    "# Run shared code\n",
    "sharedSQL()\n",
    "\n",
    "# Create final data set for this case and clean up\n",
    "cur.execute(\"drop table if exists censuswardLaborAll1564;\")\n",
    "cur.execute(\"\"\"\n",
    "    create table censuswardLaborAll1564 as \n",
    "      select *\n",
    "      from final;\n",
    "      drop table final;\n",
    "    \"\"\")\n",
    "conn.commit()"
   ]
  },
  {
   "cell_type": "code",
   "execution_count": 55,
   "metadata": {},
   "outputs": [],
   "source": [
    "# Totals for the unskilled population\n",
    "\"\"\"\n",
    "There is a 1:1 match between p28_highest_level <=13 and p_29_high_vocation == 1\n",
    "and p28 >= 14 and p_29 >= 2\n",
    "Also, diploma and certificate are post secondary.\n",
    "0 is none\n",
    "<= 6 is none or primary incomplete\n",
    "grade 7 is primary complete\n",
    "8 - 12 is secondary, with 12 secondary complete\n",
    "13 is some college\n",
    "\"\"\"\n",
    "\n",
    "# Create specific case\n",
    "cur.execute(\"drop table if exists thiscase;\")\n",
    "cur.execute(\"\"\"\n",
    "    create temporary table thiscase as \n",
    "      select *\n",
    "      from generalcase1564\n",
    "      where p28_highest_level <= 6;\n",
    "    \"\"\")\n",
    "\n",
    "# Run shared code\n",
    "sharedSQL()\n",
    "\n",
    "# Create final data set for this case and clean up\n",
    "cur.execute(\"drop table if exists censuswardLaborUnskilled1564;\")\n",
    "cur.execute(\"\"\"\n",
    "    create table censuswardLaborUnskilled1564 as \n",
    "      select *\n",
    "      from final;\n",
    "      drop table final;\n",
    "    \"\"\")\n",
    "conn.commit()"
   ]
  },
  {
   "cell_type": "code",
   "execution_count": 64,
   "metadata": {
    "collapsed": true
   },
   "outputs": [],
   "source": [
    "# Totals for the skilled population (see unskilled cell for explanations)\n",
    "\n",
    "# Create specific case\n",
    "cur.execute(\"drop table if exists thiscase;\")\n",
    "cur.execute(\"\"\"\n",
    "    create temporary table thiscase as \n",
    "      select *\n",
    "      from generalcase1564\n",
    "      where p29_high_vocation > 1;\n",
    "    \"\"\")\n",
    "\n",
    "# Run shared code\n",
    "sharedSQL()\n",
    "\n",
    "# Create final data set for this case and clean up\n",
    "cur.execute(\"drop table if exists censuswardLaborSkilled1564;\")\n",
    "cur.execute(\"\"\"\n",
    "    create table censuswardLaborSkilled1564 as \n",
    "      select *\n",
    "      from final;\n",
    "      drop table final;\n",
    "    \"\"\")\n",
    "conn.commit()\n"
   ]
  },
  {
   "cell_type": "code",
   "execution_count": 66,
   "metadata": {
    "collapsed": true
   },
   "outputs": [],
   "source": [
    "# Totals for the semiskilled population (see unskilled cell for explanations)\n",
    "\n",
    "# Create specific case\n",
    "cur.execute(\"drop table if exists thiscase;\")\n",
    "cur.execute(\"\"\"\n",
    "    create temporary table thiscase as \n",
    "      select *\n",
    "      from generalcase1564\n",
    "      where (p28_highest_level >=7 and p28_highest_level <= 13);\n",
    "    \"\"\")\n",
    "\n",
    "# Run shared code\n",
    "sharedSQL()\n",
    "\n",
    "# Create final data set for this case and clean up\n",
    "cur.execute(\"drop table if exists censuswardLaborSemiskilled1564;\")\n",
    "cur.execute(\"\"\"\n",
    "    create table censuswardLaborSemiskilled1564 as \n",
    "      select *\n",
    "      from final;\n",
    "      drop table final;\n",
    "    \"\"\")\n",
    "conn.commit()\n"
   ]
  },
  {
   "cell_type": "code",
   "execution_count": 68,
   "metadata": {
    "collapsed": true
   },
   "outputs": [],
   "source": [
    "# Totals for male population\n",
    "\n",
    "# Create specific case\n",
    "cur.execute(\"drop table if exists thiscase;\")\n",
    "cur.execute(\"\"\"\n",
    "    create temporary table thiscase as \n",
    "      select *\n",
    "      from generalcase1564\n",
    "      where p4_sex = 1;\n",
    "    \"\"\")\n",
    "\n",
    "# Run shared code\n",
    "sharedSQL()\n",
    "\n",
    "# Create final data set for this case and clean up\n",
    "cur.execute(\"drop table if exists censuswardLaborMale1564;\")\n",
    "cur.execute(\"\"\"\n",
    "    create table censuswardLaborMale1564 as \n",
    "      select *\n",
    "      from final;\n",
    "      drop table final;\n",
    "    \"\"\")\n",
    "conn.commit()\n"
   ]
  },
  {
   "cell_type": "code",
   "execution_count": 69,
   "metadata": {
    "collapsed": true
   },
   "outputs": [],
   "source": [
    "# Totals for female population\n",
    "\n",
    "# Create specific case\n",
    "cur.execute(\"drop table if exists thiscase;\")\n",
    "cur.execute(\"\"\"\n",
    "    create temporary table thiscase as \n",
    "      select *\n",
    "      from generalcase1564\n",
    "      where p4_sex = 2;\n",
    "    \"\"\")\n",
    "\n",
    "# Run shared code\n",
    "sharedSQL()\n",
    "\n",
    "# Create final data set for this case and clean up\n",
    "cur.execute(\"drop table if exists censuswardLaborFemale1564;\")\n",
    "cur.execute(\"\"\"\n",
    "    create table censuswardLaborFemale1564 as \n",
    "      select *\n",
    "      from final;\n",
    "      drop table final;\n",
    "    \"\"\")\n",
    "conn.commit()\n"
   ]
  },
  {
   "cell_type": "code",
   "execution_count": 71,
   "metadata": {
    "collapsed": true
   },
   "outputs": [],
   "source": [
    "# Totals for population aged 15-24\n",
    "\n",
    "# Create specific case\n",
    "cur.execute(\"drop table if exists thiscase;\")\n",
    "cur.execute(\"\"\"\n",
    "    create temporary table thiscase as \n",
    "      select *\n",
    "      from generalcase1564\n",
    "      where p5_age <= 24;\n",
    "    \"\"\")\n",
    "\n",
    "# Run shared code\n",
    "sharedSQL()\n",
    "\n",
    "# Create final data set for this case and clean up\n",
    "cur.execute(\"drop table if exists censuswardLabor1524;\")\n",
    "cur.execute(\"\"\"\n",
    "    create table censuswardLabor1524 as \n",
    "      select *\n",
    "      from final;\n",
    "      drop table final;\n",
    "    \"\"\")\n",
    "conn.commit()\n"
   ]
  },
  {
   "cell_type": "code",
   "execution_count": 72,
   "metadata": {
    "collapsed": true
   },
   "outputs": [],
   "source": [
    "# Totals for population aged 25-64\n",
    "\n",
    "# Create specific case\n",
    "cur.execute(\"drop table if exists thiscase;\")\n",
    "cur.execute(\"\"\"\n",
    "    create temporary table thiscase as \n",
    "      select *\n",
    "      from generalcase1564\n",
    "      where p5_age >= 25;\n",
    "    \"\"\")\n",
    "\n",
    "# Run shared code\n",
    "sharedSQL()\n",
    "\n",
    "# Create final data set for this case and clean up\n",
    "cur.execute(\"drop table if exists censuswardLabor2564;\")\n",
    "cur.execute(\"\"\"\n",
    "    create table censuswardLabor2564 as \n",
    "      select *\n",
    "      from final;\n",
    "      drop table final;\n",
    "    \"\"\")\n",
    "conn.commit()\n"
   ]
  },
  {
   "cell_type": "code",
   "execution_count": 73,
   "metadata": {
    "collapsed": true
   },
   "outputs": [],
   "source": [
    "# Totals for the agriculture \n",
    "\n",
    "\"\"\"\n",
    "11 - 32 \"Agriculture\" \n",
    "51 - 99 \"Mining\" \n",
    "101 - 332 \"Manufacturing\" \n",
    "351 - 390 \"Public utilities\" \n",
    "410 - 439 \"Construction\"  \n",
    "451 - 479 \"Commerce\" \n",
    "491 - 639 \"Transport and Comnunications\" \n",
    "641 - 829 \"Financial and Business Services\" \n",
    "841 - 843 \"Public Administration\" \n",
    "851 - 990 \"Other Services, Unspecified\"\n",
    "\"\"\"\n",
    "\n",
    "# Create specific case\n",
    "cur.execute(\"drop table if exists thiscase;\")\n",
    "cur.execute(\"\"\"\n",
    "    create temporary table thiscase as \n",
    "      select *\n",
    "      from generalcase1564\n",
    "      where p35_industry >= 11 and p35_industry <= 32;\n",
    "    \"\"\")\n",
    "\n",
    "# Run shared code\n",
    "sharedSQL()\n",
    "\n",
    "# Create final data set for this case and clean up\n",
    "cur.execute(\"drop table if exists censuswardLaborAgriculture1564;\")\n",
    "cur.execute(\"\"\"\n",
    "    create table censuswardLaborAgriculture1564 as \n",
    "      select *\n",
    "      from final;\n",
    "      drop table final;\n",
    "    \"\"\")\n",
    "conn.commit()\n"
   ]
  },
  {
   "cell_type": "code",
   "execution_count": 75,
   "metadata": {
    "collapsed": true
   },
   "outputs": [],
   "source": [
    "# Totals for the mining (see cell for agriculture for table)\n",
    "\n",
    "# Create specific case\n",
    "cur.execute(\"drop table if exists thiscase;\")\n",
    "cur.execute(\"\"\"\n",
    "    create temporary table thiscase as \n",
    "      select *\n",
    "      from generalcase1564\n",
    "      where p35_industry >= 51 and p35_industry <= 99;\n",
    "    \"\"\")\n",
    "\n",
    "# Run shared code\n",
    "sharedSQL()\n",
    "\n",
    "# Create final data set for this case and clean up\n",
    "cur.execute(\"drop table if exists censuswardLaborMining1564;\")\n",
    "cur.execute(\"\"\"\n",
    "    create table censuswardLaborMining1564 as \n",
    "      select *\n",
    "      from final;\n",
    "      drop table final;\n",
    "    \"\"\")\n",
    "conn.commit()\n"
   ]
  },
  {
   "cell_type": "code",
   "execution_count": 77,
   "metadata": {
    "collapsed": true
   },
   "outputs": [],
   "source": [
    "# Totals for the manufacturing (see cell for agriculture for table)\n",
    "\n",
    "# Create specific case\n",
    "cur.execute(\"drop table if exists thiscase;\")\n",
    "cur.execute(\"\"\"\n",
    "    create temporary table thiscase as \n",
    "      select *\n",
    "      from generalcase1564\n",
    "      where p35_industry >= 101 and p35_industry <= 332;\n",
    "    \"\"\")\n",
    "\n",
    "# Run shared code\n",
    "sharedSQL()\n",
    "\n",
    "# Create final data set for this case and clean up\n",
    "cur.execute(\"drop table if exists censuswardLaborManufacture1564;\")\n",
    "cur.execute(\"\"\"\n",
    "    create table censuswardLaborManufacture1564 as \n",
    "      select *\n",
    "      from final;\n",
    "      drop table final;\n",
    "    \"\"\")\n",
    "conn.commit()\n"
   ]
  },
  {
   "cell_type": "code",
   "execution_count": 79,
   "metadata": {
    "collapsed": true
   },
   "outputs": [],
   "source": [
    "# Totals for the other industries (see cell for agriculture for table)\n",
    "\n",
    "# Create specific case\n",
    "cur.execute(\"drop table if exists thiscase;\")\n",
    "cur.execute(\"\"\"\n",
    "    create temporary table thiscase as \n",
    "      select *\n",
    "      from generalcase1564\n",
    "      where p35_industry >= 351;\n",
    "    \"\"\")\n",
    "\n",
    "# Run shared code\n",
    "sharedSQL()\n",
    "\n",
    "# Create final data set for this case and clean up\n",
    "cur.execute(\"drop table if exists censuswardLaborOtherIndustry1564;\")\n",
    "cur.execute(\"\"\"\n",
    "    create table censuswardLaborOtherIndustry1564 as \n",
    "      select *\n",
    "      from final;\n",
    "      drop table final;\n",
    "    \"\"\")\n",
    "conn.commit()\n"
   ]
  },
  {
   "cell_type": "code",
   "execution_count": 81,
   "metadata": {},
   "outputs": [],
   "source": [
    "## Cleanup\n",
    "\n",
    "cur.execute(\"drop table if exists censuswardcounts;\")\n",
    "cur.execute(\"drop table if exists censuswardLaborAll;\")\n",
    "cur.execute(\"drop table if exists censuswardLaborUnskilled;\")\n",
    "cur.execute(\"drop table if exists censuswardLaborSkilled;\")\n",
    "cur.execute(\"drop table if exists censuswardLaborSemiskilled;\")\n",
    "cur.execute(\"drop table if exists censuswardLaborMale;\")\n",
    "cur.execute(\"drop table if exists censuswardLaborFemale;\")\n",
    "cur.execute(\"drop table if exists censuswardLaborAgriculture;\")\n",
    "cur.execute(\"drop table if exists censuswardLaborMining;\")\n",
    "cur.execute(\"drop table if exists censuswardLaborManufacture;\")\n",
    "cur.execute(\"drop table if exists censuswardLaborOtherIndustry;\")\n"
   ]
  },
  {
   "cell_type": "code",
   "execution_count": 82,
   "metadata": {
    "collapsed": true
   },
   "outputs": [],
   "source": [
    "conn.commit()"
   ]
  },
  {
   "cell_type": "code",
   "execution_count": 83,
   "metadata": {
    "collapsed": true
   },
   "outputs": [],
   "source": [
    "cur.close()\n",
    "conn.close()"
   ]
  },
  {
   "cell_type": "code",
   "execution_count": null,
   "metadata": {
    "collapsed": true
   },
   "outputs": [],
   "source": []
  },
  {
   "cell_type": "code",
   "execution_count": null,
   "metadata": {
    "collapsed": true
   },
   "outputs": [],
   "source": []
  },
  {
   "cell_type": "code",
   "execution_count": null,
   "metadata": {
    "collapsed": true
   },
   "outputs": [],
   "source": []
  },
  {
   "cell_type": "code",
   "execution_count": null,
   "metadata": {
    "collapsed": true
   },
   "outputs": [],
   "source": []
  },
  {
   "cell_type": "code",
   "execution_count": null,
   "metadata": {
    "collapsed": true
   },
   "outputs": [],
   "source": []
  },
  {
   "cell_type": "code",
   "execution_count": null,
   "metadata": {
    "collapsed": true
   },
   "outputs": [],
   "source": []
  },
  {
   "cell_type": "code",
   "execution_count": null,
   "metadata": {
    "collapsed": true
   },
   "outputs": [],
   "source": []
  },
  {
   "cell_type": "code",
   "execution_count": null,
   "metadata": {
    "collapsed": true
   },
   "outputs": [],
   "source": []
  },
  {
   "cell_type": "code",
   "execution_count": 84,
   "metadata": {
    "collapsed": true
   },
   "outputs": [],
   "source": []
  },
  {
   "cell_type": "code",
   "execution_count": 85,
   "metadata": {
    "collapsed": true
   },
   "outputs": [],
   "source": []
  },
  {
   "cell_type": "code",
   "execution_count": null,
   "metadata": {},
   "outputs": [],
   "source": []
  },
  {
   "cell_type": "code",
   "execution_count": null,
   "metadata": {
    "collapsed": true
   },
   "outputs": [],
   "source": []
  },
  {
   "cell_type": "code",
   "execution_count": 87,
   "metadata": {
    "collapsed": true
   },
   "outputs": [],
   "source": []
  },
  {
   "cell_type": "code",
   "execution_count": 88,
   "metadata": {
    "collapsed": true
   },
   "outputs": [],
   "source": []
  },
  {
   "cell_type": "code",
   "execution_count": null,
   "metadata": {},
   "outputs": [],
   "source": []
  },
  {
   "cell_type": "code",
   "execution_count": null,
   "metadata": {
    "collapsed": true
   },
   "outputs": [],
   "source": []
  }
 ],
 "metadata": {
  "anaconda-cloud": {},
  "kernelspec": {
   "display_name": "Python 3",
   "language": "python",
   "name": "python3"
  },
  "language_info": {
   "codemirror_mode": {
    "name": "ipython",
    "version": 3
   },
   "file_extension": ".py",
   "mimetype": "text/x-python",
   "name": "python",
   "nbconvert_exporter": "python",
   "pygments_lexer": "ipython3",
   "version": "3.6.0"
  }
 },
 "nbformat": 4,
 "nbformat_minor": 1
}
